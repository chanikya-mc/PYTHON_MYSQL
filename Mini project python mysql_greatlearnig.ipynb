{
 "cells": [
  {
   "cell_type": "code",
   "execution_count": 7,
   "id": "ec8a4194",
   "metadata": {},
   "outputs": [],
   "source": [
    "import mysql.connector\n",
    "\n",
    "mydb = mysql.connector.connect(\n",
    "  host=\"localhost\",\n",
    "  user=\"pythonuser\",\n",
    "  password=\"chanikyamc22\"\n",
    ")\n",
    "mc=mydb.cursor()"
   ]
  },
  {
   "cell_type": "code",
   "execution_count": 8,
   "id": "a52fbb59",
   "metadata": {},
   "outputs": [
    {
     "ename": "DatabaseError",
     "evalue": "1007 (HY000): Can't create database 'sports'; database exists",
     "output_type": "error",
     "traceback": [
      "\u001b[1;31m---------------------------------------------------------------------------\u001b[0m",
      "\u001b[1;31mDatabaseError\u001b[0m                             Traceback (most recent call last)",
      "\u001b[1;32m<ipython-input-8-599a8ab3ade0>\u001b[0m in \u001b[0;36m<module>\u001b[1;34m\u001b[0m\n\u001b[0;32m      1\u001b[0m \u001b[0mmc\u001b[0m\u001b[1;33m=\u001b[0m\u001b[0mmydb\u001b[0m\u001b[1;33m.\u001b[0m\u001b[0mcursor\u001b[0m\u001b[1;33m(\u001b[0m\u001b[1;33m)\u001b[0m\u001b[1;33m\u001b[0m\u001b[1;33m\u001b[0m\u001b[0m\n\u001b[1;32m----> 2\u001b[1;33m \u001b[0mmc\u001b[0m\u001b[1;33m.\u001b[0m\u001b[0mexecute\u001b[0m\u001b[1;33m(\u001b[0m\u001b[1;34m\"create database sports\"\u001b[0m\u001b[1;33m)\u001b[0m\u001b[1;33m\u001b[0m\u001b[1;33m\u001b[0m\u001b[0m\n\u001b[0m",
      "\u001b[1;32m~\\anaconda3\\lib\\site-packages\\mysql\\connector\\cursor.py\u001b[0m in \u001b[0;36mexecute\u001b[1;34m(self, operation, params, multi)\u001b[0m\n\u001b[0;32m    549\u001b[0m         \u001b[1;32melse\u001b[0m\u001b[1;33m:\u001b[0m\u001b[1;33m\u001b[0m\u001b[1;33m\u001b[0m\u001b[0m\n\u001b[0;32m    550\u001b[0m             \u001b[1;32mtry\u001b[0m\u001b[1;33m:\u001b[0m\u001b[1;33m\u001b[0m\u001b[1;33m\u001b[0m\u001b[0m\n\u001b[1;32m--> 551\u001b[1;33m                 \u001b[0mself\u001b[0m\u001b[1;33m.\u001b[0m\u001b[0m_handle_result\u001b[0m\u001b[1;33m(\u001b[0m\u001b[0mself\u001b[0m\u001b[1;33m.\u001b[0m\u001b[0m_connection\u001b[0m\u001b[1;33m.\u001b[0m\u001b[0mcmd_query\u001b[0m\u001b[1;33m(\u001b[0m\u001b[0mstmt\u001b[0m\u001b[1;33m)\u001b[0m\u001b[1;33m)\u001b[0m\u001b[1;33m\u001b[0m\u001b[1;33m\u001b[0m\u001b[0m\n\u001b[0m\u001b[0;32m    552\u001b[0m             \u001b[1;32mexcept\u001b[0m \u001b[0merrors\u001b[0m\u001b[1;33m.\u001b[0m\u001b[0mInterfaceError\u001b[0m\u001b[1;33m:\u001b[0m\u001b[1;33m\u001b[0m\u001b[1;33m\u001b[0m\u001b[0m\n\u001b[0;32m    553\u001b[0m                 \u001b[1;32mif\u001b[0m \u001b[0mself\u001b[0m\u001b[1;33m.\u001b[0m\u001b[0m_connection\u001b[0m\u001b[1;33m.\u001b[0m\u001b[0m_have_next_result\u001b[0m\u001b[1;33m:\u001b[0m  \u001b[1;31m# pylint: disable=W0212\u001b[0m\u001b[1;33m\u001b[0m\u001b[1;33m\u001b[0m\u001b[0m\n",
      "\u001b[1;32m~\\anaconda3\\lib\\site-packages\\mysql\\connector\\connection.py\u001b[0m in \u001b[0;36mcmd_query\u001b[1;34m(self, query, raw, buffered, raw_as_string)\u001b[0m\n\u001b[0;32m    488\u001b[0m         \u001b[1;32mif\u001b[0m \u001b[1;32mnot\u001b[0m \u001b[0misinstance\u001b[0m\u001b[1;33m(\u001b[0m\u001b[0mquery\u001b[0m\u001b[1;33m,\u001b[0m \u001b[0mbytes\u001b[0m\u001b[1;33m)\u001b[0m\u001b[1;33m:\u001b[0m\u001b[1;33m\u001b[0m\u001b[1;33m\u001b[0m\u001b[0m\n\u001b[0;32m    489\u001b[0m             \u001b[0mquery\u001b[0m \u001b[1;33m=\u001b[0m \u001b[0mquery\u001b[0m\u001b[1;33m.\u001b[0m\u001b[0mencode\u001b[0m\u001b[1;33m(\u001b[0m\u001b[1;34m'utf-8'\u001b[0m\u001b[1;33m)\u001b[0m\u001b[1;33m\u001b[0m\u001b[1;33m\u001b[0m\u001b[0m\n\u001b[1;32m--> 490\u001b[1;33m         \u001b[0mresult\u001b[0m \u001b[1;33m=\u001b[0m \u001b[0mself\u001b[0m\u001b[1;33m.\u001b[0m\u001b[0m_handle_result\u001b[0m\u001b[1;33m(\u001b[0m\u001b[0mself\u001b[0m\u001b[1;33m.\u001b[0m\u001b[0m_send_cmd\u001b[0m\u001b[1;33m(\u001b[0m\u001b[0mServerCmd\u001b[0m\u001b[1;33m.\u001b[0m\u001b[0mQUERY\u001b[0m\u001b[1;33m,\u001b[0m \u001b[0mquery\u001b[0m\u001b[1;33m)\u001b[0m\u001b[1;33m)\u001b[0m\u001b[1;33m\u001b[0m\u001b[1;33m\u001b[0m\u001b[0m\n\u001b[0m\u001b[0;32m    491\u001b[0m \u001b[1;33m\u001b[0m\u001b[0m\n\u001b[0;32m    492\u001b[0m         \u001b[1;32mif\u001b[0m \u001b[0mself\u001b[0m\u001b[1;33m.\u001b[0m\u001b[0m_have_next_result\u001b[0m\u001b[1;33m:\u001b[0m\u001b[1;33m\u001b[0m\u001b[1;33m\u001b[0m\u001b[0m\n",
      "\u001b[1;32m~\\anaconda3\\lib\\site-packages\\mysql\\connector\\connection.py\u001b[0m in \u001b[0;36m_handle_result\u001b[1;34m(self, packet)\u001b[0m\n\u001b[0;32m    393\u001b[0m             \u001b[1;32mreturn\u001b[0m \u001b[0mself\u001b[0m\u001b[1;33m.\u001b[0m\u001b[0m_handle_eof\u001b[0m\u001b[1;33m(\u001b[0m\u001b[0mpacket\u001b[0m\u001b[1;33m)\u001b[0m\u001b[1;33m\u001b[0m\u001b[1;33m\u001b[0m\u001b[0m\n\u001b[0;32m    394\u001b[0m         \u001b[1;32melif\u001b[0m \u001b[0mpacket\u001b[0m\u001b[1;33m[\u001b[0m\u001b[1;36m4\u001b[0m\u001b[1;33m]\u001b[0m \u001b[1;33m==\u001b[0m \u001b[1;36m255\u001b[0m\u001b[1;33m:\u001b[0m\u001b[1;33m\u001b[0m\u001b[1;33m\u001b[0m\u001b[0m\n\u001b[1;32m--> 395\u001b[1;33m             \u001b[1;32mraise\u001b[0m \u001b[0merrors\u001b[0m\u001b[1;33m.\u001b[0m\u001b[0mget_exception\u001b[0m\u001b[1;33m(\u001b[0m\u001b[0mpacket\u001b[0m\u001b[1;33m)\u001b[0m\u001b[1;33m\u001b[0m\u001b[1;33m\u001b[0m\u001b[0m\n\u001b[0m\u001b[0;32m    396\u001b[0m \u001b[1;33m\u001b[0m\u001b[0m\n\u001b[0;32m    397\u001b[0m         \u001b[1;31m# We have a text result set\u001b[0m\u001b[1;33m\u001b[0m\u001b[1;33m\u001b[0m\u001b[1;33m\u001b[0m\u001b[0m\n",
      "\u001b[1;31mDatabaseError\u001b[0m: 1007 (HY000): Can't create database 'sports'; database exists"
     ]
    }
   ],
   "source": [
    "mc=mydb.cursor()\n",
    "mc.execute(\"create database sports\")"
   ]
  },
  {
   "cell_type": "code",
   "execution_count": 9,
   "id": "42492334",
   "metadata": {},
   "outputs": [
    {
     "name": "stdout",
     "output_type": "stream",
     "text": [
      "('cms',)\n",
      "('cpmsphp',)\n",
      "('cybersecurity',)\n",
      "('information_schema',)\n",
      "('mini',)\n",
      "('mysql',)\n",
      "('osghsdb',)\n",
      "('performance_schema',)\n",
      "('phpmyadmin',)\n",
      "('python',)\n",
      "('sports',)\n",
      "('support-system-for-women-and-children-master',)\n",
      "('test',)\n"
     ]
    }
   ],
   "source": [
    "mc=mydb.cursor()\n",
    "mc.execute(\"SHOW DATABASES\")\n",
    "for x in mc:\n",
    "  print(x)"
   ]
  },
  {
   "cell_type": "code",
   "execution_count": 10,
   "id": "4503ddee",
   "metadata": {},
   "outputs": [],
   "source": [
    "import mysql.connector\n",
    "\n",
    "mydb = mysql.connector.connect(\n",
    "  host=\"localhost\",\n",
    "  user=\"pythonuser\",\n",
    "  password=\"chanikyamc22\",\n",
    "    database=\"sports\"\n",
    ")\n",
    "mc=mydb.cursor()\n",
    "mc.execute(\"create table player(name varchar(20),playerno int,age int,score int)\")"
   ]
  },
  {
   "cell_type": "code",
   "execution_count": 11,
   "id": "ccf6ecd2",
   "metadata": {},
   "outputs": [
    {
     "name": "stdout",
     "output_type": "stream",
     "text": [
      "('player',)\n"
     ]
    }
   ],
   "source": [
    "mc=mydb.cursor()\n",
    "mc.execute(\"SHOW TABLES\")\n",
    "for x in mc:\n",
    "  print(x)"
   ]
  },
  {
   "cell_type": "code",
   "execution_count": 12,
   "id": "5918312d",
   "metadata": {},
   "outputs": [],
   "source": [
    "import mysql.connector\n",
    "\n",
    "mydb = mysql.connector.connect(\n",
    "  host=\"localhost\",\n",
    "  user=\"pythonuser\",\n",
    "  password=\"chanikyamc22\",\n",
    "    database=\"sports\"\n",
    ")\n",
    "sql=\"insert into player(name,playerno,age,score) values(%s,%s,%s,%s)\"\n",
    "val1=('msd',7,42,100)\n",
    "mc=mydb.cursor()\n",
    "mc.execute(sql,val1)\n",
    "mydb.commit()"
   ]
  },
  {
   "cell_type": "code",
   "execution_count": 13,
   "id": "f5c0758e",
   "metadata": {},
   "outputs": [],
   "source": [
    "import mysql.connector\n",
    "\n",
    "mydb = mysql.connector.connect(\n",
    "  host=\"localhost\",\n",
    "  user=\"pythonuser\",\n",
    "  password=\"chanikyamc22\",\n",
    "    database=\"sports\"\n",
    ")\n",
    "sql=\"insert into player(name,playerno,age,score) values(%s,%s,%s,%s)\"\n",
    "val1=[('msd',7,42,100),('jaddu',8,32,90),('virat',18,22,80),('rohit',48,54,40),('kl',100,12,20)]\n",
    "mc=mydb.cursor()\n",
    "mc.executemany(sql,val1)\n",
    "mydb.commit()"
   ]
  },
  {
   "cell_type": "code",
   "execution_count": 15,
   "id": "197757a8",
   "metadata": {},
   "outputs": [
    {
     "name": "stdout",
     "output_type": "stream",
     "text": [
      "('msd', 7, 42, 100)\n",
      "('msd', 7, 42, 100)\n",
      "('jaddu', 8, 32, 90)\n",
      "('virat', 18, 22, 80)\n",
      "('rohit', 48, 54, 40)\n",
      "('kl', 100, 12, 20)\n"
     ]
    }
   ],
   "source": [
    "mc.execute(\"select * from player\")\n",
    "re=mc.fetchall()\n",
    "for i in re:\n",
    "    print(i)"
   ]
  },
  {
   "cell_type": "code",
   "execution_count": 17,
   "id": "8b720cbc",
   "metadata": {},
   "outputs": [
    {
     "data": {
      "text/plain": [
       "[('msd', 7, 42, 100),\n",
       " ('msd', 7, 42, 100),\n",
       " ('jaddu', 8, 32, 90),\n",
       " ('virat', 18, 22, 80),\n",
       " ('rohit', 48, 54, 40),\n",
       " ('kl', 100, 12, 20)]"
      ]
     },
     "execution_count": 17,
     "metadata": {},
     "output_type": "execute_result"
    }
   ],
   "source": [
    "mc.execute(\"select * from player\")\n",
    "mc.fetchall()"
   ]
  },
  {
   "cell_type": "code",
   "execution_count": 28,
   "id": "7b963343",
   "metadata": {},
   "outputs": [
    {
     "data": {
      "text/plain": [
       "('msd', 7, 42, 100)"
      ]
     },
     "execution_count": 28,
     "metadata": {},
     "output_type": "execute_result"
    }
   ],
   "source": [
    "import mysql.connector\n",
    "\n",
    "mydb = mysql.connector.connect(\n",
    "  host=\"localhost\",\n",
    "  user=\"pythonuser\",\n",
    "  password=\"chanikyamc22\",\n",
    "    database=\"sports\"\n",
    ")\n",
    "mc=mydb.cursor()\n",
    "mc.execute(\"select * from player\")\n",
    "mc.fetchone()"
   ]
  },
  {
   "cell_type": "code",
   "execution_count": 30,
   "id": "ec93cf31",
   "metadata": {},
   "outputs": [
    {
     "data": {
      "text/plain": [
       "[('msd', 7, 42, 100),\n",
       " ('msd', 7, 42, 100),\n",
       " ('jaddu', 8, 32, 90),\n",
       " ('virat', 18, 22, 80),\n",
       " ('rohit', 48, 54, 40),\n",
       " ('kl', 100, 12, 20)]"
      ]
     },
     "execution_count": 30,
     "metadata": {},
     "output_type": "execute_result"
    }
   ],
   "source": [
    "import mysql.connector\n",
    "\n",
    "mydb = mysql.connector.connect(\n",
    "  host=\"localhost\",\n",
    "  user=\"pythonuser\",\n",
    "  password=\"chanikyamc22\",\n",
    "    database=\"sports\"\n",
    ")\n",
    "mc=mydb.cursor()\n",
    "mc.execute(\"select * from player\")\n",
    "mc.fetchall()"
   ]
  },
  {
   "cell_type": "code",
   "execution_count": 33,
   "id": "428fbefc",
   "metadata": {},
   "outputs": [],
   "source": [
    "import mysql.connector\n",
    "\n",
    "mydb = mysql.connector.connect(\n",
    "  host=\"localhost\",\n",
    "  user=\"pythonuser\",\n",
    "  password=\"chanikyamc22\",\n",
    "    database=\"sports\"\n",
    ")\n",
    "mc=mydb.cursor()\n",
    "p=\"update player set age=202 where name='kl'\"\n",
    "mc.execute(p)\n",
    "\n"
   ]
  },
  {
   "cell_type": "code",
   "execution_count": 34,
   "id": "506cc2b8",
   "metadata": {},
   "outputs": [
    {
     "name": "stdout",
     "output_type": "stream",
     "text": [
      "('msd', 7, 42, 100)\n",
      "('msd', 7, 42, 100)\n",
      "('jaddu', 8, 32, 90)\n",
      "('virat', 18, 22, 80)\n",
      "('rohit', 48, 54, 40)\n",
      "('kl', 100, 202, 20)\n"
     ]
    }
   ],
   "source": [
    "mc.execute(\"select * from player\")\n",
    "re=mc.fetchall()\n",
    "for i in re:\n",
    "    print(i)"
   ]
  },
  {
   "cell_type": "code",
   "execution_count": 36,
   "id": "93ae81ca",
   "metadata": {},
   "outputs": [],
   "source": [
    "import mysql.connector\n",
    "\n",
    "mydb = mysql.connector.connect(\n",
    "  host=\"localhost\",\n",
    "  user=\"pythonuser\",\n",
    "  password=\"chanikyamc22\",\n",
    "    database=\"sports\"\n",
    ")\n",
    "mc=mydb.cursor()\n",
    "p=\"update player set age=202 where name='kl'\"\n",
    "mc.execute(p)\n",
    "mydb.commit()\n"
   ]
  },
  {
   "cell_type": "code",
   "execution_count": 37,
   "id": "668017a1",
   "metadata": {},
   "outputs": [
    {
     "name": "stdout",
     "output_type": "stream",
     "text": [
      "('msd', 7, 42, 100)\n",
      "('msd', 7, 42, 100)\n",
      "('jaddu', 8, 32, 90)\n",
      "('virat', 18, 22, 80)\n",
      "('rohit', 48, 54, 40)\n",
      "('kl', 100, 202, 20)\n"
     ]
    }
   ],
   "source": [
    "mc.execute(\"select * from player\")\n",
    "re=mc.fetchall()\n",
    "for i in re:\n",
    "    print(i)"
   ]
  },
  {
   "cell_type": "code",
   "execution_count": 38,
   "id": "fa791170",
   "metadata": {},
   "outputs": [],
   "source": [
    "import mysql.connector\n",
    "\n",
    "mydb = mysql.connector.connect(\n",
    "  host=\"localhost\",\n",
    "  user=\"pythonuser\",\n",
    "  password=\"chanikyamc22\",\n",
    "    database=\"sports\"\n",
    ")\n",
    "mc=mydb.cursor()\n",
    "p=\"update player set name='chanikya' where age=32\"\n",
    "mc.execute(p)\n",
    "mydb.commit()"
   ]
  },
  {
   "cell_type": "code",
   "execution_count": 39,
   "id": "14cf145c",
   "metadata": {},
   "outputs": [
    {
     "name": "stdout",
     "output_type": "stream",
     "text": [
      "('msd', 7, 42, 100)\n",
      "('msd', 7, 42, 100)\n",
      "('chanikya', 8, 32, 90)\n",
      "('virat', 18, 22, 80)\n",
      "('rohit', 48, 54, 40)\n",
      "('kl', 100, 202, 20)\n"
     ]
    }
   ],
   "source": [
    "mc.execute(\"select * from player\")\n",
    "re=mc.fetchall()\n",
    "for i in re:\n",
    "    print(i)"
   ]
  },
  {
   "cell_type": "code",
   "execution_count": 42,
   "id": "aca88d4b",
   "metadata": {},
   "outputs": [
    {
     "name": "stdout",
     "output_type": "stream",
     "text": [
      "('msd', 7, 42, 100)\n",
      "('msd', 7, 42, 100)\n",
      "('chanikya', 8, 32, 90)\n"
     ]
    }
   ],
   "source": [
    "import mysql.connector\n",
    "\n",
    "mydb = mysql.connector.connect(\n",
    "  host=\"localhost\",\n",
    "  user=\"pythonuser\",\n",
    "  password=\"chanikyamc22\",\n",
    "    database=\"sports\"\n",
    ")\n",
    "mc=mydb.cursor()\n",
    "p=\"select * from player limit 3\"\n",
    "mc.execute(p)\n",
    "for i in mc:\n",
    "    print(i)"
   ]
  },
  {
   "cell_type": "code",
   "execution_count": 44,
   "id": "ce9cc893",
   "metadata": {},
   "outputs": [
    {
     "name": "stdout",
     "output_type": "stream",
     "text": [
      "('chanikya', 8, 32, 90)\n",
      "('virat', 18, 22, 80)\n",
      "('rohit', 48, 54, 40)\n"
     ]
    }
   ],
   "source": [
    "import mysql.connector\n",
    "\n",
    "mydb = mysql.connector.connect(\n",
    "  host=\"localhost\",\n",
    "  user=\"pythonuser\",\n",
    "  password=\"chanikyamc22\",\n",
    "    database=\"sports\"\n",
    ")\n",
    "mc=mydb.cursor()\n",
    "p=\"select * from player limit 3 offset 2\"\n",
    "mc.execute(p)\n",
    "for i in mc:\n",
    "    print(i)"
   ]
  },
  {
   "cell_type": "code",
   "execution_count": 45,
   "id": "fc7cd55e",
   "metadata": {},
   "outputs": [],
   "source": [
    "import mysql.connector\n",
    "\n",
    "mydb = mysql.connector.connect(\n",
    "  host=\"localhost\",\n",
    "  user=\"pythonuser\",\n",
    "  password=\"chanikyamc22\",\n",
    "    database=\"sports\"\n",
    ")\n",
    "mc=mydb.cursor()\n",
    "p=\"delete from player where age=42\"\n",
    "mc.execute(p)\n",
    "mydb.commit()"
   ]
  },
  {
   "cell_type": "code",
   "execution_count": null,
   "id": "a1af698b",
   "metadata": {},
   "outputs": [],
   "source": [
    "mc.execute(\"select * from player\")\n",
    "re=mc.fetchall()\n",
    "for i in re:\n",
    "    print(i)"
   ]
  },
  {
   "cell_type": "code",
   "execution_count": null,
   "id": "68d95cea",
   "metadata": {},
   "outputs": [],
   "source": [
    "mc=mydb.cursor()\n",
    "mc.execute(\"SHOW TABLES\")\n",
    "for x in mc:\n",
    "  print(x)"
   ]
  },
  {
   "cell_type": "code",
   "execution_count": null,
   "id": "42504182",
   "metadata": {},
   "outputs": [],
   "source": []
  },
  {
   "cell_type": "code",
   "execution_count": null,
   "id": "655e3555",
   "metadata": {},
   "outputs": [],
   "source": []
  }
 ],
 "metadata": {
  "kernelspec": {
   "display_name": "Python 3",
   "language": "python",
   "name": "python3"
  },
  "language_info": {
   "codemirror_mode": {
    "name": "ipython",
    "version": 3
   },
   "file_extension": ".py",
   "mimetype": "text/x-python",
   "name": "python",
   "nbconvert_exporter": "python",
   "pygments_lexer": "ipython3",
   "version": "3.8.8"
  }
 },
 "nbformat": 4,
 "nbformat_minor": 5
}
