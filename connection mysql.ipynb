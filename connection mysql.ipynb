{
 "cells": [
  {
   "cell_type": "code",
   "execution_count": 1,
   "id": "a7074fb0",
   "metadata": {},
   "outputs": [
    {
     "name": "stdout",
     "output_type": "stream",
     "text": [
      "Collecting pymysqlNote: you may need to restart the kernel to use updated packages.\n",
      "  Using cached PyMySQL-1.1.0-py3-none-any.whl (44 kB)\n",
      "Installing collected packages: pymysql\n",
      "Successfully installed pymysql-1.1.0\n",
      "\n"
     ]
    }
   ],
   "source": [
    "pip install pymysql"
   ]
  },
  {
   "cell_type": "code",
   "execution_count": 2,
   "id": "08c6e84c",
   "metadata": {},
   "outputs": [],
   "source": [
    "import pymysql as sql"
   ]
  },
  {
   "cell_type": "code",
   "execution_count": 32,
   "id": "227097f1",
   "metadata": {},
   "outputs": [
    {
     "name": "stdout",
     "output_type": "stream",
     "text": [
      "<pymysql.connections.Connection object at 0x000000552CC69040>\n"
     ]
    }
   ],
   "source": [
    "mydb = mysql.connect(\n",
    "  host=\"localhost\",\n",
    "    database='mtit',\n",
    "  user=\"root\",\n",
    "  password=\"root\"\n",
    ")\n",
    "\n",
    "print(mydb)"
   ]
  },
  {
   "cell_type": "code",
   "execution_count": 33,
   "id": "7fcaab52",
   "metadata": {},
   "outputs": [
    {
     "name": "stdout",
     "output_type": "stream",
     "text": [
      "<pymysql.cursors.Cursor object at 0x000000552CC695B0>\n",
      "('emp',)\n",
      "('mobile',)\n"
     ]
    }
   ],
   "source": [
    "cur=mydb.cursor()\n",
    "cur.execute(\"SHOW TABLES\")\n",
    "print(cur)\n",
    "for i in cur:\n",
    "    print(i)"
   ]
  },
  {
   "cell_type": "code",
   "execution_count": 20,
   "id": "e0f5cfb3",
   "metadata": {},
   "outputs": [
    {
     "name": "stdout",
     "output_type": "stream",
     "text": [
      "Enter employee id: 6\n",
      "Enter employee name: ljjhj\n",
      "Enter employee salary: 7866\n"
     ]
    }
   ],
   "source": [
    "insert = \"INSERT INTO emp (eid, name, esla) VALUES (%s, %s, %s)\"\n",
    "eid = int(input(\"Enter employee id: \"))\n",
    "ename = input(\"Enter employee name: \")\n",
    "esal = float(input(\"Enter employee salary: \"))\n",
    "\n",
    "val = (eid, ename, esal)\n",
    "cur.execute(insert, val)\n",
    "mydb.commit()\n"
   ]
  },
  {
   "cell_type": "code",
   "execution_count": 21,
   "id": "1df3a84d",
   "metadata": {},
   "outputs": [
    {
     "name": "stdout",
     "output_type": "stream",
     "text": [
      "Enter employee id: 7\n",
      "Enter employee name: purush\n",
      "Enter employee salary: 100\n"
     ]
    }
   ],
   "source": [
    "insert = \"INSERT INTO emp (eid, name, esla) VALUES (%s, %s, %s)\"\n",
    "eid = int(input(\"Enter employee id: \"))\n",
    "ename = input(\"Enter employee name: \")\n",
    "esal = float(input(\"Enter employee salary: \"))\n",
    "\n",
    "val = (eid, ename, esal)\n",
    "cur.execute(insert, val)\n",
    "mydb.commit()\n"
   ]
  },
  {
   "cell_type": "code",
   "execution_count": 23,
   "id": "063186e4",
   "metadata": {},
   "outputs": [
    {
     "name": "stdout",
     "output_type": "stream",
     "text": [
      "(1, 'chanikya', 20000.0)\n",
      "(6, 'ljjhj', 7866.0)\n",
      "(7, 'purush', 100.0)\n"
     ]
    }
   ],
   "source": [
    "cur.execute(\"select * from emp\")\n",
    "result=cur.fetchall()\n",
    "for i in result:\n",
    "    print(i)"
   ]
  },
  {
   "cell_type": "code",
   "execution_count": 25,
   "id": "9881b47d",
   "metadata": {},
   "outputs": [
    {
     "data": {
      "text/plain": [
       "0"
      ]
     },
     "execution_count": 25,
     "metadata": {},
     "output_type": "execute_result"
    }
   ],
   "source": [
    "cur.execute(\"create table mobile(name varchar(200),model varchar(200),cost int)\")"
   ]
  },
  {
   "cell_type": "code",
   "execution_count": 26,
   "id": "f43111f8",
   "metadata": {},
   "outputs": [
    {
     "name": "stdout",
     "output_type": "stream",
     "text": [
      "Enter mobile name: red me\n",
      "Enter mobile model: note 9\n",
      "Enter mobile cost: 17500\n"
     ]
    }
   ],
   "source": [
    "insert = \"INSERT INTO mobile (name, model, cost) VALUES (%s, %s, %s)\"\n",
    "eid = input(\"Enter mobile name: \")\n",
    "model = input(\"Enter mobile model: \")\n",
    "cost = int(input(\"Enter mobile cost: \"))\n",
    "\n",
    "val = (eid, model, cost)\n",
    "cur.execute(insert, val)\n",
    "mydb.commit()\n"
   ]
  },
  {
   "cell_type": "code",
   "execution_count": 27,
   "id": "6505b939",
   "metadata": {},
   "outputs": [
    {
     "name": "stdout",
     "output_type": "stream",
     "text": [
      "Enter mobile name: vivo\n",
      "Enter mobile model: y30\n",
      "Enter mobile cost: 15000\n"
     ]
    }
   ],
   "source": [
    "insert = \"INSERT INTO mobile (name, model, cost) VALUES (%s, %s, %s)\"\n",
    "eid = input(\"Enter mobile name: \")\n",
    "model = input(\"Enter mobile model: \")\n",
    "cost = int(input(\"Enter mobile cost: \"))\n",
    "\n",
    "val = (eid, model, cost)\n",
    "cur.execute(insert, val)\n",
    "mydb.commit()\n"
   ]
  },
  {
   "cell_type": "code",
   "execution_count": 28,
   "id": "06a93a85",
   "metadata": {},
   "outputs": [
    {
     "name": "stdout",
     "output_type": "stream",
     "text": [
      "Enter mobile name: realme\n",
      "Enter mobile model: 7\n",
      "Enter mobile cost: 19000\n"
     ]
    }
   ],
   "source": [
    "insert = \"INSERT INTO mobile (name, model, cost) VALUES (%s, %s, %s)\"\n",
    "eid = input(\"Enter mobile name: \")\n",
    "model = input(\"Enter mobile model: \")\n",
    "cost = int(input(\"Enter mobile cost: \"))\n",
    "\n",
    "val = (eid, model, cost)\n",
    "cur.execute(insert, val)\n",
    "mydb.commit()\n"
   ]
  },
  {
   "cell_type": "code",
   "execution_count": 29,
   "id": "02420ce8",
   "metadata": {},
   "outputs": [
    {
     "name": "stdout",
     "output_type": "stream",
     "text": [
      "('red me', 'note 9', 17500)\n",
      "('vivo', 'y30', 15000)\n",
      "('realme', '7', 19000)\n"
     ]
    }
   ],
   "source": [
    "cur.execute(\"select * from mobile\")\n",
    "result=cur.fetchall()\n",
    "for i in result:\n",
    "    print(i)"
   ]
  },
  {
   "cell_type": "code",
   "execution_count": null,
   "id": "56a856fc",
   "metadata": {},
   "outputs": [],
   "source": [
    " cur.close()\n",
    "    mydb.close()"
   ]
  },
  {
   "cell_type": "code",
   "execution_count": 34,
   "id": "d9784488",
   "metadata": {},
   "outputs": [
    {
     "ename": "NameError",
     "evalue": "name 'L' is not defined",
     "output_type": "error",
     "traceback": [
      "\u001b[1;31m---------------------------------------------------------------------------\u001b[0m",
      "\u001b[1;31mNameError\u001b[0m                                 Traceback (most recent call last)",
      "\u001b[1;32m<ipython-input-34-11392d0d6a34>\u001b[0m in \u001b[0;36m<module>\u001b[1;34m\u001b[0m\n\u001b[1;32m----> 1\u001b[1;33m \u001b[1;32mfor\u001b[0m \u001b[0mrecord\u001b[0m \u001b[1;32min\u001b[0m \u001b[0mL\u001b[0m\u001b[1;33m:\u001b[0m\u001b[1;33m\u001b[0m\u001b[1;33m\u001b[0m\u001b[0m\n\u001b[0m\u001b[0;32m      2\u001b[0m     \u001b[0mhtno\u001b[0m\u001b[1;33m,\u001b[0m\u001b[0mname\u001b[0m\u001b[1;33m,\u001b[0m\u001b[0msub1\u001b[0m\u001b[1;33m,\u001b[0m\u001b[0msub2\u001b[0m\u001b[1;33m,\u001b[0m\u001b[0msub3\u001b[0m\u001b[1;33m,\u001b[0m\u001b[0msub4\u001b[0m\u001b[1;33m,\u001b[0m\u001b[0msub5\u001b[0m\u001b[1;33m,\u001b[0m\u001b[0mtotal\u001b[0m\u001b[1;33m,\u001b[0m\u001b[0mper\u001b[0m\u001b[1;33m,\u001b[0m\u001b[0mgrade\u001b[0m\u001b[1;33m,\u001b[0m\u001b[0mresult\u001b[0m\u001b[1;33m=\u001b[0m\u001b[0mrecord\u001b[0m\u001b[1;33m\u001b[0m\u001b[1;33m\u001b[0m\u001b[0m\n\u001b[0;32m      3\u001b[0m     \u001b[0msql\u001b[0m\u001b[1;33m=\u001b[0m\u001b[1;34mf\"insert into sms values({htno},'{name}',{sub1},{sub2},{sub3},{sub4},{sub5},{total},{per},'{grade}','{result}')\"\u001b[0m\u001b[1;33m\u001b[0m\u001b[1;33m\u001b[0m\u001b[0m\n\u001b[0;32m      4\u001b[0m     \u001b[0mcur\u001b[0m\u001b[1;33m.\u001b[0m\u001b[0mexecute\u001b[0m\u001b[1;33m(\u001b[0m\u001b[0msql\u001b[0m\u001b[1;33m)\u001b[0m\u001b[1;33m\u001b[0m\u001b[1;33m\u001b[0m\u001b[0m\n\u001b[0;32m      5\u001b[0m     \u001b[0mmydb\u001b[0m\u001b[1;33m.\u001b[0m\u001b[0mcommit\u001b[0m\u001b[1;33m(\u001b[0m\u001b[1;33m)\u001b[0m\u001b[1;33m\u001b[0m\u001b[1;33m\u001b[0m\u001b[0m\n",
      "\u001b[1;31mNameError\u001b[0m: name 'L' is not defined"
     ]
    }
   ],
   "source": [
    "for record in L:\n",
    "    htno,name,sub1,sub2,sub3,sub4,sub5,total,per,grade,result=record\n",
    "    sql=f\"insert into sms values({htno},'{name}',{sub1},{sub2},{sub3},{sub4},{sub5},{total},{per},'{grade}','{result}')\"\n",
    "    cur.execute(sql)\n",
    "    mydb.commit()\n",
    "    mydb.close()"
   ]
  },
  {
   "cell_type": "code",
   "execution_count": 52,
   "id": "8b88281e",
   "metadata": {},
   "outputs": [
    {
     "name": "stdout",
     "output_type": "stream",
     "text": [
      "<pymysql.connections.Connection object at 0x000000552CCCED30>\n"
     ]
    }
   ],
   "source": [
    "cur.close()  # Close the cursor\n",
    "mydb.close()  # Close the database connection\n",
    "mydb = mysql.connect(\n",
    "  host=\"localhost\",\n",
    "    database='mtit',\n",
    "  user=\"root\",\n",
    "  password=\"root\"\n",
    ")\n",
    "\n",
    "print(mydb)\n",
    "cur=mydb.cursor()"
   ]
  },
  {
   "cell_type": "code",
   "execution_count": 53,
   "id": "be4e5514",
   "metadata": {},
   "outputs": [
    {
     "name": "stdout",
     "output_type": "stream",
     "text": [
      "Enter htno:22\n",
      "Enter name:vijay\n",
      "Enter sub1 marks:99\n",
      "Enter sub2 marks:99\n",
      "Enter sub3 marks:99\n",
      "Enter sub4 marks:99\n",
      "Enter sub5 marks:99\n",
      "Do you want to continue(Yes/No):No\n",
      "****************************************************************************\n",
      "htno\tname\tsub1\tsub2\tsub3\tsub4\tsub5\ttotal\tper\tgrade\tresult\n",
      "--------------------------------------------------------------------\n",
      "22\tvijay\t99\t99\t99\t99\t99\t495\t99.0\tA\tpass\n",
      "------------------------------------------------------------------------------------------\n"
     ]
    }
   ],
   "source": [
    "\n",
    "def calgrade(sub1,sub2,sub3,sub4,sub5,per):\n",
    "\tif sub1>=40 and sub2>=40 and sub3>=40 and sub4>=40 and sub5>=40:\n",
    "\t\tif per>=75:\n",
    "\t\t\treturn \"A\"\n",
    "\t\telif per>=60:\n",
    "\t\t\treturn \"B\"\n",
    "\t\telif per>=50:\n",
    "\t\t\treturn \"C\"\n",
    "\t\telse:\n",
    "\t\t\treturn \"D\"\n",
    "\telse:\n",
    "\t\treturn \"supple\"\n",
    "def calresult(sub1,sub2,sub3,sub4,sub5,per):\n",
    "\tif sub1>=40 and sub2>=40 and sub3>=40 and sub4>=40 and sub5>=40:\n",
    "\t\treturn \"pass\"\n",
    "\telse:\n",
    "\t\treturn \"fail\"\n",
    "L=[]\n",
    "while True:\n",
    "\thtno=int(input(\"Enter htno:\"))\n",
    "\tname=input(\"Enter name:\")\n",
    "\tsub1=int(input(\"Enter sub1 marks:\"))\n",
    "\tsub2=int(input(\"Enter sub2 marks:\"));sub3=int(input(\"Enter sub3 marks:\"))\n",
    "\tsub4=int(input(\"Enter sub4 marks:\"))\n",
    "\tsub5=int(input(\"Enter sub5 marks:\"))\n",
    "\ttotal=sub1+sub2+sub3+sub4+sub5\n",
    "\tper=total/500*100\n",
    "\tgrade=calgrade(sub1,sub2,sub3,sub4,sub5,per)\n",
    "\tresult=calresult(sub1,sub2,sub3,sub4,sub5,per)\n",
    "\trecord=htno,name,sub1,sub2,sub3,sub4,sub5,total,per,grade,result #tuple packing\n",
    "\tL.append(record)\n",
    "\tres=input(\"Do you want to continue(Yes/No):\")\n",
    "\tif res==\"No\":\n",
    "\t\tbreak\n",
    "print(\"****************************************************************************\")\n",
    "print(f\"htno\\tname\\tsub1\\tsub2\\tsub3\\tsub4\\tsub5\\ttotal\\tper\\tgrade\\tresult\")\n",
    "print(f\"--------------------------------------------------------------------\")\n",
    "for record in L:\n",
    "\thtno,name,sub1,sub2,sub3,sub4,sub5,total,per,grade,result=record\n",
    "\t#unpacking\n",
    "\tprint(f\"{htno}\\t{name}\\t{sub1}\\t{sub2}\\t{sub3}\\t{sub4}\\t{sub5}\\t{total}\\t{per}\\t{grade}\\t{result}\")\n",
    "\tprint(\"------------------------------------------------------------------------------------------\")\n",
    "\n",
    "for record in L:\n",
    "    htno,name,sub1,sub2,sub3,sub4,sub5,total,per,grade,result=record\n",
    "    sql=f\"insert into sms values({htno},'{name}',{sub1},{sub2},{sub3},{sub4},{sub5},{total},{per},'{grade}','{result}')\"\n",
    "    cur.execute(sql)\n",
    "    mydb.commit()\n",
    " \n",
    "    mydb.close()\n",
    "    \n"
   ]
  },
  {
   "cell_type": "code",
   "execution_count": null,
   "id": "191dd1cf",
   "metadata": {},
   "outputs": [],
   "source": []
  },
  {
   "cell_type": "code",
   "execution_count": null,
   "id": "2242acb7",
   "metadata": {},
   "outputs": [],
   "source": []
  },
  {
   "cell_type": "code",
   "execution_count": null,
   "id": "917f825e",
   "metadata": {},
   "outputs": [],
   "source": []
  },
  {
   "cell_type": "code",
   "execution_count": null,
   "id": "ac99fb33",
   "metadata": {},
   "outputs": [],
   "source": []
  }
 ],
 "metadata": {
  "kernelspec": {
   "display_name": "Python 3",
   "language": "python",
   "name": "python3"
  },
  "language_info": {
   "codemirror_mode": {
    "name": "ipython",
    "version": 3
   },
   "file_extension": ".py",
   "mimetype": "text/x-python",
   "name": "python",
   "nbconvert_exporter": "python",
   "pygments_lexer": "ipython3",
   "version": "3.8.8"
  }
 },
 "nbformat": 4,
 "nbformat_minor": 5
}
