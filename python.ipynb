{
 "cells": [
  {
   "cell_type": "code",
   "execution_count": 4,
   "id": "e1009915",
   "metadata": {},
   "outputs": [
    {
     "name": "stdout",
     "output_type": "stream",
     "text": [
      "Requirement already satisfied: mysql-connector-python in c:\\users\\dell\\anaconda3\\lib\\site-packages (8.0.33)Note: you may need to restart the kernel to use updated packages.\n",
      "Requirement already satisfied: protobuf<=3.20.3,>=3.11.0 in c:\\users\\dell\\anaconda3\\lib\\site-packages (from mysql-connector-python) (3.20.3)\n",
      "\n"
     ]
    }
   ],
   "source": [
    "pip install mysql-connector-python"
   ]
  },
  {
   "cell_type": "code",
   "execution_count": 1,
   "id": "63ff034a",
   "metadata": {},
   "outputs": [
    {
     "name": "stdout",
     "output_type": "stream",
     "text": [
      "Requirement already satisfied: mysql-connector-python in c:\\users\\dell\\anaconda3\\lib\\site-packages (8.0.33)Note: you may need to restart the kernel to use updated packages.\n",
      "Requirement already satisfied: protobuf<=3.20.3,>=3.11.0 in c:\\users\\dell\\anaconda3\\lib\\site-packages (from mysql-connector-python) (3.20.3)\n",
      "\n"
     ]
    }
   ],
   "source": [
    "pip install mysql-connector-python"
   ]
  },
  {
   "cell_type": "code",
   "execution_count": 2,
   "id": "e6385479",
   "metadata": {},
   "outputs": [],
   "source": [
    "import mysql.connector "
   ]
  },
  {
   "cell_type": "code",
   "execution_count": 4,
   "id": "ebb45e26",
   "metadata": {},
   "outputs": [
    {
     "name": "stdout",
     "output_type": "stream",
     "text": [
      "<mysql.connector.connection.MySQLConnection object at 0x0000004F6F668910>\n"
     ]
    }
   ],
   "source": [
    "import mysql.connector\n",
    "\n",
    "mydb = mysql.connector.connect(\n",
    "  host=\"localhost\",\n",
    "  user=\"pythonuser\",\n",
    "  password=\"chanikyamc22\"\n",
    ")\n",
    "\n",
    "print(mydb)\n"
   ]
  },
  {
   "cell_type": "code",
   "execution_count": 51,
   "id": "f3fed2e6",
   "metadata": {},
   "outputs": [
    {
     "name": "stdout",
     "output_type": "stream",
     "text": [
      "('cms',)\n",
      "('cpmsphp',)\n",
      "('cybersecurity',)\n",
      "('information_schema',)\n",
      "('mini',)\n",
      "('mysql',)\n",
      "('osghsdb',)\n",
      "('performance_schema',)\n",
      "('phpmyadmin',)\n",
      "('python',)\n",
      "('support-system-for-women-and-children-master',)\n",
      "('test',)\n"
     ]
    }
   ],
   "source": [
    "import mysql.connector\n",
    "\n",
    "mydb = mysql.connector.connect(\n",
    "  host=\"localhost\",\n",
    "  user=\"pythonuser\",\n",
    "  password=\"chanikyamc22\",\n",
    "  database=\"python\"\n",
    ")\n",
    "mc=mydb.cursor()\n",
    "mc.execute(\"SHOW DATABASES\")\n",
    "for x in mc:\n",
    "  print(x)"
   ]
  },
  {
   "cell_type": "code",
   "execution_count": 16,
   "id": "f0e1d93b",
   "metadata": {},
   "outputs": [
    {
     "name": "stdout",
     "output_type": "stream",
     "text": [
      "MySQLCursor: SHOW TABLES\n",
      "('customer',)\n",
      "('customer1',)\n"
     ]
    }
   ],
   "source": [
    "import mysql.connector\n",
    "\n",
    "mydb = mysql.connector.connect(\n",
    "  host=\"localhost\",\n",
    "  user=\"pythonuser\",\n",
    "  password=\"chanikyamc22\",\n",
    "  database=\"python\"\n",
    ")\n",
    "mc=mydb.cursor()\n",
    "mc.execute(\"SHOW TABLES\")\n",
    "print(mc)\n",
    "for x in mc:\n",
    "  print(x)"
   ]
  },
  {
   "cell_type": "code",
   "execution_count": 14,
   "id": "f3e55a73",
   "metadata": {},
   "outputs": [],
   "source": [
    "mc.execute(\"create table customer1(name varchar(200),adress varchar(200))\")"
   ]
  },
  {
   "cell_type": "code",
   "execution_count": 17,
   "id": "7aa630ae",
   "metadata": {},
   "outputs": [],
   "source": [
    "mc.execute(\"alter table customer1 add column id int auto_increment primary key\")"
   ]
  },
  {
   "cell_type": "code",
   "execution_count": 18,
   "id": "35f32d9b",
   "metadata": {},
   "outputs": [
    {
     "name": "stdout",
     "output_type": "stream",
     "text": [
      "1 record inserted\n"
     ]
    }
   ],
   "source": [
    "insert=\"insert into customer1(name,adress) values(%s,%s)\"\n",
    "val=(\"chanikya\",\"swapna_sister\")\n",
    "mc.execute(insert,val)\n",
    "mydb.commit()\n",
    "print(mc.rowcount,\"record inserted\")"
   ]
  },
  {
   "cell_type": "code",
   "execution_count": 23,
   "id": "0ba790b1",
   "metadata": {},
   "outputs": [
    {
     "name": "stdout",
     "output_type": "stream",
     "text": [
      "1 record inserted\n"
     ]
    }
   ],
   "source": [
    "insert=\"insert into customer1(name,adress) values(%s,%s)\"\n",
    "val=(\"kumar\",\"nethra\")\n",
    "mc.execute(insert,val)\n",
    "mydb.commit()\n",
    "print(mc.rowcount,\"record inserted\")"
   ]
  },
  {
   "cell_type": "code",
   "execution_count": 52,
   "id": "f06ae949",
   "metadata": {},
   "outputs": [
    {
     "name": "stdout",
     "output_type": "stream",
     "text": [
      "1 record inserted\n"
     ]
    }
   ],
   "source": [
    "insert=\"insert into customer1(name,adress) values(%s,%s)\"\n",
    "val=('chani','chani')\n",
    "mc.execute(insert,val)\n",
    "mydb.commit()\n",
    "print(mc.rowcount,\"record inserted\")"
   ]
  },
  {
   "cell_type": "code",
   "execution_count": 26,
   "id": "03b25c3d",
   "metadata": {},
   "outputs": [
    {
     "name": "stdout",
     "output_type": "stream",
     "text": [
      "4 record inserted\n"
     ]
    }
   ],
   "source": [
    "data1=\"insert into customer1(name,adress) values(%s,%s)\"\n",
    "val=[\n",
    "    (\"purush\",\"chani\"),\n",
    "    (\"chani\",\"karunakar\"),\n",
    "    (\"chani\",\"likki\"),\n",
    "    (\"chani\",\"tej\")]\n",
    "mc.executemany(data1,val)\n",
    "mydb.commit()\n",
    "print(mc.rowcount,\"record inserted\")"
   ]
  },
  {
   "cell_type": "code",
   "execution_count": 56,
   "id": "3dcacfe1",
   "metadata": {},
   "outputs": [
    {
     "name": "stdout",
     "output_type": "stream",
     "text": [
      "('chanikya', 'swapna_sister', 1)\n",
      "('kumar', 'nethra', 2)\n",
      "('purush', 'chani', 3)\n",
      "('chani', 'karunakar', 4)\n",
      "('chani', 'likki', 5)\n",
      "('chani', 'tej', 6)\n",
      "('chani', 'chani', 7)\n"
     ]
    }
   ],
   "source": [
    "mc.execute(\"select * from customer1\")\n",
    "result=mc.fetchall()\n",
    "for i in result:\n",
    "    print(i)"
   ]
  },
  {
   "cell_type": "code",
   "execution_count": 34,
   "id": "a835e06f",
   "metadata": {},
   "outputs": [
    {
     "name": "stdout",
     "output_type": "stream",
     "text": [
      "('chanikya', 'swapna_sister', 1)\n",
      "('kumar', 'nethra', 2)\n",
      "('purush', 'chani', 3)\n",
      "('chani', 'karunakar', 4)\n",
      "('chani', 'likki', 5)\n",
      "('chani', 'tej', 6)\n"
     ]
    }
   ],
   "source": [
    "mc.execute(\"select name,adress from customer1\")\n",
    "re=mc.fetchall()\n",
    "for i in result:\n",
    "    print(i)"
   ]
  },
  {
   "cell_type": "code",
   "execution_count": 35,
   "id": "4744051b",
   "metadata": {},
   "outputs": [
    {
     "name": "stdout",
     "output_type": "stream",
     "text": [
      "(6,)\n"
     ]
    }
   ],
   "source": [
    "mc.execute(\"select count(*) from customer1\")\n",
    "result=mc.fetchall()\n",
    "for i in result:\n",
    "    print(i)"
   ]
  },
  {
   "cell_type": "code",
   "execution_count": 55,
   "id": "fb77c023",
   "metadata": {},
   "outputs": [
    {
     "name": "stdout",
     "output_type": "stream",
     "text": [
      "('purush', 'chani', 3)\n",
      "('chani', 'chani', 7)\n"
     ]
    }
   ],
   "source": [
    "mc=mydb.cursor()\n",
    "sql=mc.execute(\"select * from customer1 where adress='chani'\")\n",
    "mc.execute(sql)\n",
    "result=mc.fetchall()\n",
    "for i in result:\n",
    "    print(i)"
   ]
  },
  {
   "cell_type": "code",
   "execution_count": 57,
   "id": "f205dc70",
   "metadata": {},
   "outputs": [
    {
     "name": "stdout",
     "output_type": "stream",
     "text": [
      "('purush', 'chani', 3)\n",
      "('chani', 'chani', 7)\n"
     ]
    }
   ],
   "source": [
    "mc=mydb.cursor()\n",
    "sql=mc.execute(\"select * from customer1 where adress like '%ni%'\")\n",
    "mc.execute(sql)\n",
    "result=mc.fetchall()\n",
    "for i in result:\n",
    "    print(i)"
   ]
  },
  {
   "cell_type": "code",
   "execution_count": 58,
   "id": "5d97a0a9",
   "metadata": {},
   "outputs": [
    {
     "name": "stdout",
     "output_type": "stream",
     "text": [
      "('chanikya', 'swapna_sister', 1)\n",
      "('chani', 'tej', 6)\n"
     ]
    }
   ],
   "source": [
    "mc=mydb.cursor()\n",
    "sql=mc.execute(\"select * from customer1 where adress like '%te%'\")\n",
    "mc.execute(sql)\n",
    "result=mc.fetchall()\n",
    "for i in result:\n",
    "    print(i)"
   ]
  },
  {
   "cell_type": "code",
   "execution_count": 59,
   "id": "11ec13dd",
   "metadata": {},
   "outputs": [
    {
     "name": "stdout",
     "output_type": "stream",
     "text": [
      "('chani', 'karunakar', 4)\n",
      "('chani', 'likki', 5)\n",
      "('chani', 'tej', 6)\n",
      "('chani', 'chani', 7)\n",
      "('chanikya', 'swapna_sister', 1)\n",
      "('kumar', 'nethra', 2)\n",
      "('purush', 'chani', 3)\n"
     ]
    }
   ],
   "source": [
    "mc=mydb.cursor()\n",
    "sql=mc.execute(\"select * from customer1 order by name\")\n",
    "mc.execute(sql)\n",
    "result=mc.fetchall()\n",
    "for i in result:\n",
    "    print(i)"
   ]
  },
  {
   "cell_type": "code",
   "execution_count": 60,
   "id": "701bf484",
   "metadata": {},
   "outputs": [
    {
     "name": "stdout",
     "output_type": "stream",
     "text": [
      "('purush', 'chani', 3)\n",
      "('chani', 'chani', 7)\n",
      "('chani', 'karunakar', 4)\n",
      "('chani', 'likki', 5)\n",
      "('kumar', 'nethra', 2)\n",
      "('chanikya', 'swapna_sister', 1)\n",
      "('chani', 'tej', 6)\n"
     ]
    }
   ],
   "source": [
    "mc=mydb.cursor()\n",
    "sql=mc.execute(\"select * from customer1 order by adress\")\n",
    "mc.execute(sql)\n",
    "result=mc.fetchall()\n",
    "for i in result:\n",
    "    print(i)"
   ]
  },
  {
   "cell_type": "code",
   "execution_count": 62,
   "id": "09871ae8",
   "metadata": {},
   "outputs": [
    {
     "name": "stdout",
     "output_type": "stream",
     "text": [
      "('purush', 'chani', 3)\n",
      "('kumar', 'nethra', 2)\n",
      "('chanikya', 'swapna_sister', 1)\n",
      "('chani', 'karunakar', 4)\n",
      "('chani', 'likki', 5)\n",
      "('chani', 'tej', 6)\n",
      "('chani', 'chani', 7)\n"
     ]
    }
   ],
   "source": [
    "mc=mydb.cursor()\n",
    "sql=mc.execute(\"select * from customer1 order by name desc\")\n",
    "mc.execute(sql)\n",
    "result=mc.fetchall()\n",
    "for i in result:\n",
    "    print(i)"
   ]
  },
  {
   "cell_type": "code",
   "execution_count": 61,
   "id": "42969394",
   "metadata": {},
   "outputs": [
    {
     "name": "stdout",
     "output_type": "stream",
     "text": [
      "('chani', 'tej', 6)\n",
      "('chanikya', 'swapna_sister', 1)\n",
      "('kumar', 'nethra', 2)\n",
      "('chani', 'likki', 5)\n",
      "('chani', 'karunakar', 4)\n",
      "('purush', 'chani', 3)\n",
      "('chani', 'chani', 7)\n"
     ]
    }
   ],
   "source": [
    "mc=mydb.cursor()\n",
    "sql=mc.execute(\"select * from customer1 order by adress desc\")\n",
    "mc.execute(sql)\n",
    "result=mc.fetchall()\n",
    "for i in result:\n",
    "    print(i)"
   ]
  },
  {
   "cell_type": "code",
   "execution_count": null,
   "id": "7ff80e87",
   "metadata": {},
   "outputs": [],
   "source": []
  },
  {
   "cell_type": "code",
   "execution_count": null,
   "id": "2a65f2ab",
   "metadata": {},
   "outputs": [],
   "source": []
  },
  {
   "cell_type": "code",
   "execution_count": null,
   "id": "dc7c1660",
   "metadata": {},
   "outputs": [],
   "source": []
  },
  {
   "cell_type": "code",
   "execution_count": null,
   "id": "26487266",
   "metadata": {},
   "outputs": [],
   "source": []
  }
 ],
 "metadata": {
  "kernelspec": {
   "display_name": "Python 3",
   "language": "python",
   "name": "python3"
  },
  "language_info": {
   "codemirror_mode": {
    "name": "ipython",
    "version": 3
   },
   "file_extension": ".py",
   "mimetype": "text/x-python",
   "name": "python",
   "nbconvert_exporter": "python",
   "pygments_lexer": "ipython3",
   "version": "3.8.8"
  }
 },
 "nbformat": 4,
 "nbformat_minor": 5
}
